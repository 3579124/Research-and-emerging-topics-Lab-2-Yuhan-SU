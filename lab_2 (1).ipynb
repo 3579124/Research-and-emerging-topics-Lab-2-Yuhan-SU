{
  "cells": [
    {
      "cell_type": "markdown",
      "id": "2304a0dd",
      "metadata": {
        "id": "2304a0dd"
      },
      "source": [
        "# 🧪 Lab: Modelling & Model Lifecycle — Predicting Plant Production (GIST Steel Dataset)\n",
        "\n",
        "---\n",
        "\n",
        "## 🎯 Learning Outcomes\n",
        "\n",
        "By completing this lab, you will be able to:\n",
        "\n",
        "- Prepare and analyse a dataset for modelling.  \n",
        "- Train and evaluate regression models.  \n",
        "- Apply cross-validation and hyperparameter tuning using scikit-learn.  \n",
        "- Track experiments and store models using MLflow and/or Optuna.  \n",
        "- Reflect on the practical aspects of managing the ML lifecycle.\n",
        "\n",
        "---\n"
      ]
    },
    {
      "cell_type": "code",
      "execution_count": 1,
      "id": "k0cYS9EcFppw",
      "metadata": {
        "id": "k0cYS9EcFppw"
      },
      "outputs": [],
      "source": [
        "import pandas as pd"
      ]
    },
    {
      "cell_type": "markdown",
      "id": "885aa979",
      "metadata": {
        "id": "885aa979"
      },
      "source": [
        "\n",
        "## 🧩 1. Data Setup and Exploration\n",
        "⏱ *Estimated time: 30–40 min*\n",
        "\n",
        "### 🧭 Objective  \n",
        "Understand the dataset structure and the target variable (“plant-level production”).\n",
        "\n",
        "---\n",
        "\n",
        "### **Task 1.1 – Load and Inspect Data**\n",
        "- Load the GIST Steel dataset.\n",
        "- Display basic info (shape, column names, missing values, and data types).  \n",
        "- Identify the target variable (production) and key features (capacity, ...).\n"
      ]
    },
    {
      "cell_type": "code",
      "execution_count": null,
      "id": "25a8520e",
      "metadata": {
        "colab": {
          "base_uri": "https://localhost:8080/",
          "height": 585
        },
        "id": "25a8520e",
        "outputId": "c06eb1d5-980a-49de-a5cd-69424a1537ff"
      },
      "outputs": [
        {
          "data": {
            "application/vnd.google.colaboratory.intrinsic+json": {
              "type": "dataframe",
              "variable_name": "df"
            },
            "text/html": [
              "\n",
              "  <div id=\"df-de5eab6f-dd1a-419e-b8c5-58cfb29bdb8d\" class=\"colab-df-container\">\n",
              "    <div>\n",
              "<style scoped>\n",
              "    .dataframe tbody tr th:only-of-type {\n",
              "        vertical-align: middle;\n",
              "    }\n",
              "\n",
              "    .dataframe tbody tr th {\n",
              "        vertical-align: top;\n",
              "    }\n",
              "\n",
              "    .dataframe thead th {\n",
              "        text-align: right;\n",
              "    }\n",
              "</style>\n",
              "<table border=\"1\" class=\"dataframe\">\n",
              "  <thead>\n",
              "    <tr style=\"text-align: right;\">\n",
              "      <th></th>\n",
              "      <th>Plant ID</th>\n",
              "      <th>Plant name (English)</th>\n",
              "      <th>Plant name (other language)</th>\n",
              "      <th>Other plant names (English)</th>\n",
              "      <th>Other plant names (other language)</th>\n",
              "      <th>Owner</th>\n",
              "      <th>Owner (other language)</th>\n",
              "      <th>Owner GEM ID</th>\n",
              "      <th>Owner PermID</th>\n",
              "      <th>SOE Status</th>\n",
              "      <th>...</th>\n",
              "      <th>Steel products</th>\n",
              "      <th>Steel sector end users</th>\n",
              "      <th>Workforce size</th>\n",
              "      <th>ISO 14001</th>\n",
              "      <th>ISO 50001</th>\n",
              "      <th>ResponsibleSteel Certification</th>\n",
              "      <th>Main production equipment</th>\n",
              "      <th>Power source</th>\n",
              "      <th>Iron ore source</th>\n",
              "      <th>Met coal source</th>\n",
              "    </tr>\n",
              "  </thead>\n",
              "  <tbody>\n",
              "    <tr>\n",
              "      <th>0</th>\n",
              "      <td>P100000120004</td>\n",
              "      <td>Kurum International Elbasan steel plant</td>\n",
              "      <td>Kurum Kombinati metalurgjik</td>\n",
              "      <td>NaN</td>\n",
              "      <td>NaN</td>\n",
              "      <td>Kurum International ShA</td>\n",
              "      <td>NaN</td>\n",
              "      <td>E100000130992</td>\n",
              "      <td>5037939021</td>\n",
              "      <td>NaN</td>\n",
              "      <td>...</td>\n",
              "      <td>billet, wire rod, rebar</td>\n",
              "      <td>unknown</td>\n",
              "      <td>1000</td>\n",
              "      <td>Yes</td>\n",
              "      <td>unknown</td>\n",
              "      <td>No</td>\n",
              "      <td>EAF</td>\n",
              "      <td>Hydraulic, integrated plants; Four hydropower ...</td>\n",
              "      <td>unknown</td>\n",
              "      <td>unknown</td>\n",
              "    </tr>\n",
              "    <tr>\n",
              "      <th>1</th>\n",
              "      <td>P100000120439</td>\n",
              "      <td>Algerian Qatari Steel Jijel plant</td>\n",
              "      <td>الجزائرية القطرية للصلب</td>\n",
              "      <td>AQS</td>\n",
              "      <td>NaN</td>\n",
              "      <td>Algerian Qatari Steel</td>\n",
              "      <td>NaN</td>\n",
              "      <td>E100001000957</td>\n",
              "      <td>5076384326</td>\n",
              "      <td>Partial</td>\n",
              "      <td>...</td>\n",
              "      <td>billet, wire rod, rebar</td>\n",
              "      <td>unknown</td>\n",
              "      <td>2400</td>\n",
              "      <td>Yes</td>\n",
              "      <td>unknown</td>\n",
              "      <td>No</td>\n",
              "      <td>EAF; DRI</td>\n",
              "      <td>unknown</td>\n",
              "      <td>unknown</td>\n",
              "      <td>unknown</td>\n",
              "    </tr>\n",
              "    <tr>\n",
              "      <th>2</th>\n",
              "      <td>P100000120442</td>\n",
              "      <td>ETRHB Annaba steel plant</td>\n",
              "      <td>NaN</td>\n",
              "      <td>NaN</td>\n",
              "      <td>NaN</td>\n",
              "      <td>ETRHB Industrie SpA</td>\n",
              "      <td>NaN</td>\n",
              "      <td>E100001010275</td>\n",
              "      <td>5074513855</td>\n",
              "      <td>NaN</td>\n",
              "      <td>...</td>\n",
              "      <td>unknown</td>\n",
              "      <td>unknown</td>\n",
              "      <td>2000</td>\n",
              "      <td>unknown</td>\n",
              "      <td>unknown</td>\n",
              "      <td>No</td>\n",
              "      <td>EAF</td>\n",
              "      <td>unknown</td>\n",
              "      <td>unknown</td>\n",
              "      <td>unknown</td>\n",
              "    </tr>\n",
              "    <tr>\n",
              "      <th>3</th>\n",
              "      <td>P100000121198</td>\n",
              "      <td>Ozmert Algeria steel plant</td>\n",
              "      <td>NaN</td>\n",
              "      <td>NaN</td>\n",
              "      <td>NaN</td>\n",
              "      <td>Ozmert Algeria SARL</td>\n",
              "      <td>NaN</td>\n",
              "      <td>E100001012196</td>\n",
              "      <td>unknown</td>\n",
              "      <td>NaN</td>\n",
              "      <td>...</td>\n",
              "      <td>unknown</td>\n",
              "      <td>unknown</td>\n",
              "      <td>unknown</td>\n",
              "      <td>unknown</td>\n",
              "      <td>unknown</td>\n",
              "      <td>No</td>\n",
              "      <td>EAF; DRI</td>\n",
              "      <td>unknown</td>\n",
              "      <td>Alwaznah and Bu Khadhrah mines</td>\n",
              "      <td>Bechar</td>\n",
              "    </tr>\n",
              "    <tr>\n",
              "      <th>4</th>\n",
              "      <td>P100000120440</td>\n",
              "      <td>Sider El Hadjar Annaba steel plant</td>\n",
              "      <td>مركب الحجار للحديد والصلب</td>\n",
              "      <td>ArcelorMittal Annaba (predecessor), El Hadjar ...</td>\n",
              "      <td>NaN</td>\n",
              "      <td>Groupe Industriel Sider SpA</td>\n",
              "      <td>NaN</td>\n",
              "      <td>E100001000960</td>\n",
              "      <td>5000941519</td>\n",
              "      <td>Full</td>\n",
              "      <td>...</td>\n",
              "      <td>coil, rebar, sheet</td>\n",
              "      <td>unknown</td>\n",
              "      <td>5748</td>\n",
              "      <td>unknown</td>\n",
              "      <td>unknown</td>\n",
              "      <td>No</td>\n",
              "      <td>BF; BOF; EAF; DRI</td>\n",
              "      <td>unknown</td>\n",
              "      <td>unknown</td>\n",
              "      <td>unknown</td>\n",
              "    </tr>\n",
              "  </tbody>\n",
              "</table>\n",
              "<p>5 rows × 44 columns</p>\n",
              "</div>\n",
              "    <div class=\"colab-df-buttons\">\n",
              "\n",
              "  <div class=\"colab-df-container\">\n",
              "    <button class=\"colab-df-convert\" onclick=\"convertToInteractive('df-de5eab6f-dd1a-419e-b8c5-58cfb29bdb8d')\"\n",
              "            title=\"Convert this dataframe to an interactive table.\"\n",
              "            style=\"display:none;\">\n",
              "\n",
              "  <svg xmlns=\"http://www.w3.org/2000/svg\" height=\"24px\" viewBox=\"0 -960 960 960\">\n",
              "    <path d=\"M120-120v-720h720v720H120Zm60-500h600v-160H180v160Zm220 220h160v-160H400v160Zm0 220h160v-160H400v160ZM180-400h160v-160H180v160Zm440 0h160v-160H620v160ZM180-180h160v-160H180v160Zm440 0h160v-160H620v160Z\"/>\n",
              "  </svg>\n",
              "    </button>\n",
              "\n",
              "  <style>\n",
              "    .colab-df-container {\n",
              "      display:flex;\n",
              "      gap: 12px;\n",
              "    }\n",
              "\n",
              "    .colab-df-convert {\n",
              "      background-color: #E8F0FE;\n",
              "      border: none;\n",
              "      border-radius: 50%;\n",
              "      cursor: pointer;\n",
              "      display: none;\n",
              "      fill: #1967D2;\n",
              "      height: 32px;\n",
              "      padding: 0 0 0 0;\n",
              "      width: 32px;\n",
              "    }\n",
              "\n",
              "    .colab-df-convert:hover {\n",
              "      background-color: #E2EBFA;\n",
              "      box-shadow: 0px 1px 2px rgba(60, 64, 67, 0.3), 0px 1px 3px 1px rgba(60, 64, 67, 0.15);\n",
              "      fill: #174EA6;\n",
              "    }\n",
              "\n",
              "    .colab-df-buttons div {\n",
              "      margin-bottom: 4px;\n",
              "    }\n",
              "\n",
              "    [theme=dark] .colab-df-convert {\n",
              "      background-color: #3B4455;\n",
              "      fill: #D2E3FC;\n",
              "    }\n",
              "\n",
              "    [theme=dark] .colab-df-convert:hover {\n",
              "      background-color: #434B5C;\n",
              "      box-shadow: 0px 1px 3px 1px rgba(0, 0, 0, 0.15);\n",
              "      filter: drop-shadow(0px 1px 2px rgba(0, 0, 0, 0.3));\n",
              "      fill: #FFFFFF;\n",
              "    }\n",
              "  </style>\n",
              "\n",
              "    <script>\n",
              "      const buttonEl =\n",
              "        document.querySelector('#df-de5eab6f-dd1a-419e-b8c5-58cfb29bdb8d button.colab-df-convert');\n",
              "      buttonEl.style.display =\n",
              "        google.colab.kernel.accessAllowed ? 'block' : 'none';\n",
              "\n",
              "      async function convertToInteractive(key) {\n",
              "        const element = document.querySelector('#df-de5eab6f-dd1a-419e-b8c5-58cfb29bdb8d');\n",
              "        const dataTable =\n",
              "          await google.colab.kernel.invokeFunction('convertToInteractive',\n",
              "                                                    [key], {});\n",
              "        if (!dataTable) return;\n",
              "\n",
              "        const docLinkHtml = 'Like what you see? Visit the ' +\n",
              "          '<a target=\"_blank\" href=https://colab.research.google.com/notebooks/data_table.ipynb>data table notebook</a>'\n",
              "          + ' to learn more about interactive tables.';\n",
              "        element.innerHTML = '';\n",
              "        dataTable['output_type'] = 'display_data';\n",
              "        await google.colab.output.renderOutput(dataTable, element);\n",
              "        const docLink = document.createElement('div');\n",
              "        docLink.innerHTML = docLinkHtml;\n",
              "        element.appendChild(docLink);\n",
              "      }\n",
              "    </script>\n",
              "  </div>\n",
              "\n",
              "\n",
              "    <div id=\"df-bf09564b-ac4b-476f-89b9-704d16ac180b\">\n",
              "      <button class=\"colab-df-quickchart\" onclick=\"quickchart('df-bf09564b-ac4b-476f-89b9-704d16ac180b')\"\n",
              "                title=\"Suggest charts\"\n",
              "                style=\"display:none;\">\n",
              "\n",
              "<svg xmlns=\"http://www.w3.org/2000/svg\" height=\"24px\"viewBox=\"0 0 24 24\"\n",
              "     width=\"24px\">\n",
              "    <g>\n",
              "        <path d=\"M19 3H5c-1.1 0-2 .9-2 2v14c0 1.1.9 2 2 2h14c1.1 0 2-.9 2-2V5c0-1.1-.9-2-2-2zM9 17H7v-7h2v7zm4 0h-2V7h2v10zm4 0h-2v-4h2v4z\"/>\n",
              "    </g>\n",
              "</svg>\n",
              "      </button>\n",
              "\n",
              "<style>\n",
              "  .colab-df-quickchart {\n",
              "      --bg-color: #E8F0FE;\n",
              "      --fill-color: #1967D2;\n",
              "      --hover-bg-color: #E2EBFA;\n",
              "      --hover-fill-color: #174EA6;\n",
              "      --disabled-fill-color: #AAA;\n",
              "      --disabled-bg-color: #DDD;\n",
              "  }\n",
              "\n",
              "  [theme=dark] .colab-df-quickchart {\n",
              "      --bg-color: #3B4455;\n",
              "      --fill-color: #D2E3FC;\n",
              "      --hover-bg-color: #434B5C;\n",
              "      --hover-fill-color: #FFFFFF;\n",
              "      --disabled-bg-color: #3B4455;\n",
              "      --disabled-fill-color: #666;\n",
              "  }\n",
              "\n",
              "  .colab-df-quickchart {\n",
              "    background-color: var(--bg-color);\n",
              "    border: none;\n",
              "    border-radius: 50%;\n",
              "    cursor: pointer;\n",
              "    display: none;\n",
              "    fill: var(--fill-color);\n",
              "    height: 32px;\n",
              "    padding: 0;\n",
              "    width: 32px;\n",
              "  }\n",
              "\n",
              "  .colab-df-quickchart:hover {\n",
              "    background-color: var(--hover-bg-color);\n",
              "    box-shadow: 0 1px 2px rgba(60, 64, 67, 0.3), 0 1px 3px 1px rgba(60, 64, 67, 0.15);\n",
              "    fill: var(--button-hover-fill-color);\n",
              "  }\n",
              "\n",
              "  .colab-df-quickchart-complete:disabled,\n",
              "  .colab-df-quickchart-complete:disabled:hover {\n",
              "    background-color: var(--disabled-bg-color);\n",
              "    fill: var(--disabled-fill-color);\n",
              "    box-shadow: none;\n",
              "  }\n",
              "\n",
              "  .colab-df-spinner {\n",
              "    border: 2px solid var(--fill-color);\n",
              "    border-color: transparent;\n",
              "    border-bottom-color: var(--fill-color);\n",
              "    animation:\n",
              "      spin 1s steps(1) infinite;\n",
              "  }\n",
              "\n",
              "  @keyframes spin {\n",
              "    0% {\n",
              "      border-color: transparent;\n",
              "      border-bottom-color: var(--fill-color);\n",
              "      border-left-color: var(--fill-color);\n",
              "    }\n",
              "    20% {\n",
              "      border-color: transparent;\n",
              "      border-left-color: var(--fill-color);\n",
              "      border-top-color: var(--fill-color);\n",
              "    }\n",
              "    30% {\n",
              "      border-color: transparent;\n",
              "      border-left-color: var(--fill-color);\n",
              "      border-top-color: var(--fill-color);\n",
              "      border-right-color: var(--fill-color);\n",
              "    }\n",
              "    40% {\n",
              "      border-color: transparent;\n",
              "      border-right-color: var(--fill-color);\n",
              "      border-top-color: var(--fill-color);\n",
              "    }\n",
              "    60% {\n",
              "      border-color: transparent;\n",
              "      border-right-color: var(--fill-color);\n",
              "    }\n",
              "    80% {\n",
              "      border-color: transparent;\n",
              "      border-right-color: var(--fill-color);\n",
              "      border-bottom-color: var(--fill-color);\n",
              "    }\n",
              "    90% {\n",
              "      border-color: transparent;\n",
              "      border-bottom-color: var(--fill-color);\n",
              "    }\n",
              "  }\n",
              "</style>\n",
              "\n",
              "      <script>\n",
              "        async function quickchart(key) {\n",
              "          const quickchartButtonEl =\n",
              "            document.querySelector('#' + key + ' button');\n",
              "          quickchartButtonEl.disabled = true;  // To prevent multiple clicks.\n",
              "          quickchartButtonEl.classList.add('colab-df-spinner');\n",
              "          try {\n",
              "            const charts = await google.colab.kernel.invokeFunction(\n",
              "                'suggestCharts', [key], {});\n",
              "          } catch (error) {\n",
              "            console.error('Error during call to suggestCharts:', error);\n",
              "          }\n",
              "          quickchartButtonEl.classList.remove('colab-df-spinner');\n",
              "          quickchartButtonEl.classList.add('colab-df-quickchart-complete');\n",
              "        }\n",
              "        (() => {\n",
              "          let quickchartButtonEl =\n",
              "            document.querySelector('#df-bf09564b-ac4b-476f-89b9-704d16ac180b button');\n",
              "          quickchartButtonEl.style.display =\n",
              "            google.colab.kernel.accessAllowed ? 'block' : 'none';\n",
              "        })();\n",
              "      </script>\n",
              "    </div>\n",
              "\n",
              "    </div>\n",
              "  </div>\n"
            ],
            "text/plain": [
              "        Plant ID                     Plant name (English)  \\\n",
              "0  P100000120004  Kurum International Elbasan steel plant   \n",
              "1  P100000120439        Algerian Qatari Steel Jijel plant   \n",
              "2  P100000120442                 ETRHB Annaba steel plant   \n",
              "3  P100000121198               Ozmert Algeria steel plant   \n",
              "4  P100000120440       Sider El Hadjar Annaba steel plant   \n",
              "\n",
              "   Plant name (other language)  \\\n",
              "0  Kurum Kombinati metalurgjik   \n",
              "1      الجزائرية القطرية للصلب   \n",
              "2                          NaN   \n",
              "3                          NaN   \n",
              "4    مركب الحجار للحديد والصلب   \n",
              "\n",
              "                         Other plant names (English)  \\\n",
              "0                                                NaN   \n",
              "1                                                AQS   \n",
              "2                                                NaN   \n",
              "3                                                NaN   \n",
              "4  ArcelorMittal Annaba (predecessor), El Hadjar ...   \n",
              "\n",
              "  Other plant names (other language)                        Owner  \\\n",
              "0                                NaN      Kurum International ShA   \n",
              "1                                NaN        Algerian Qatari Steel   \n",
              "2                                NaN          ETRHB Industrie SpA   \n",
              "3                                NaN          Ozmert Algeria SARL   \n",
              "4                                NaN  Groupe Industriel Sider SpA   \n",
              "\n",
              "  Owner (other language)   Owner GEM ID Owner PermID SOE Status  ...  \\\n",
              "0                    NaN  E100000130992   5037939021        NaN  ...   \n",
              "1                    NaN  E100001000957   5076384326    Partial  ...   \n",
              "2                    NaN  E100001010275   5074513855        NaN  ...   \n",
              "3                    NaN  E100001012196      unknown        NaN  ...   \n",
              "4                    NaN  E100001000960   5000941519       Full  ...   \n",
              "\n",
              "            Steel products Steel sector end users Workforce size ISO 14001  \\\n",
              "0  billet, wire rod, rebar                unknown           1000       Yes   \n",
              "1  billet, wire rod, rebar                unknown           2400       Yes   \n",
              "2                  unknown                unknown           2000   unknown   \n",
              "3                  unknown                unknown        unknown   unknown   \n",
              "4       coil, rebar, sheet                unknown           5748   unknown   \n",
              "\n",
              "  ISO 50001 ResponsibleSteel Certification Main production equipment  \\\n",
              "0   unknown                             No                       EAF   \n",
              "1   unknown                             No                  EAF; DRI   \n",
              "2   unknown                             No                       EAF   \n",
              "3   unknown                             No                  EAF; DRI   \n",
              "4   unknown                             No         BF; BOF; EAF; DRI   \n",
              "\n",
              "                                        Power source  \\\n",
              "0  Hydraulic, integrated plants; Four hydropower ...   \n",
              "1                                            unknown   \n",
              "2                                            unknown   \n",
              "3                                            unknown   \n",
              "4                                            unknown   \n",
              "\n",
              "                  Iron ore source Met coal source  \n",
              "0                         unknown         unknown  \n",
              "1                         unknown         unknown  \n",
              "2                         unknown         unknown  \n",
              "3  Alwaznah and Bu Khadhrah mines          Bechar  \n",
              "4                         unknown         unknown  \n",
              "\n",
              "[5 rows x 44 columns]"
            ]
          },
          "execution_count": 3,
          "metadata": {},
          "output_type": "execute_result"
        }
      ],
      "source": [
        "file_path = \"/content/Plant-level-data-Global-Iron-and-Steel-Tracker-September-2025-V1.xlsx\"\n",
        "\n",
        "# Read the sheet named \"Plant data\"\n",
        "df = pd.read_excel(file_path, sheet_name=\"Plant data\")"
      ]
    },
    {
      "cell_type": "code",
      "execution_count": 4,
      "id": "NHN7FgZvGzgn",
      "metadata": {
        "colab": {
          "base_uri": "https://localhost:8080/"
        },
        "id": "NHN7FgZvGzgn",
        "outputId": "aee2eb0c-eda6-430f-8b95-783c6cf280c2"
      },
      "outputs": [
        {
          "name": "stdout",
          "output_type": "stream",
          "text": [
            "Dataset Shape: (1209, 44)\n"
          ]
        }
      ],
      "source": [
        "print(\"Dataset Shape:\", df.shape)"
      ]
    },
    {
      "cell_type": "code",
      "execution_count": 5,
      "id": "Oxf3LKNLG2RI",
      "metadata": {
        "colab": {
          "base_uri": "https://localhost:8080/"
        },
        "id": "Oxf3LKNLG2RI",
        "outputId": "57d4f58e-4f05-4fb0-c966-cde743d3acda"
      },
      "outputs": [
        {
          "name": "stdout",
          "output_type": "stream",
          "text": [
            "\n",
            "Column Names: ['Plant ID', 'Plant name (English)', 'Plant name (other language)', 'Other plant names (English)', 'Other plant names (other language)', 'Owner', 'Owner (other language)', 'Owner GEM ID', 'Owner PermID', 'SOE Status', 'Parent', 'Parent GEM ID', 'Parent PermID', 'Location address', 'Municipality', 'Subnational unit (province/state)', 'Country/Area', 'Region', 'Other language location address', 'Coordinates', 'Coordinate accuracy', 'GEM wiki page', 'Plant age (years)', 'Announced date', 'Construction date', 'Start date', 'Pre-retirement announcement date', 'Idled date', 'Retired date', 'Ferronickel capacity (ttpa)', 'Sinter plant capacity (ttpa)', 'Coking plant capacity (ttpa)', 'Pelletizing plant capacity (ttpa)', 'Category steel product', 'Steel products', 'Steel sector end users', 'Workforce size', 'ISO 14001', 'ISO 50001', 'ResponsibleSteel Certification', 'Main production equipment', 'Power source', 'Iron ore source', 'Met coal source']\n"
          ]
        }
      ],
      "source": [
        "print(\"\\nColumn Names:\", df.columns.tolist())"
      ]
    },
    {
      "cell_type": "code",
      "execution_count": 6,
      "id": "Y-MqHMlUG4u6",
      "metadata": {
        "colab": {
          "base_uri": "https://localhost:8080/"
        },
        "id": "Y-MqHMlUG4u6",
        "outputId": "3082c852-7b8f-4ab9-a34e-b8e754ae8472"
      },
      "outputs": [
        {
          "name": "stdout",
          "output_type": "stream",
          "text": [
            "\n",
            "Missing Values:\n",
            " Plant ID                                 0\n",
            "Plant name (English)                     0\n",
            "Plant name (other language)            512\n",
            "Other plant names (English)            507\n",
            "Other plant names (other language)     922\n",
            "Owner                                    0\n",
            "Owner (other language)                 655\n",
            "Owner GEM ID                             0\n",
            "Owner PermID                             0\n",
            "SOE Status                            1007\n",
            "Parent                                   0\n",
            "Parent GEM ID                            0\n",
            "Parent PermID                            0\n",
            "Location address                         0\n",
            "Municipality                             0\n",
            "Subnational unit (province/state)        0\n",
            "Country/Area                             0\n",
            "Region                                   0\n",
            "Other language location address        764\n",
            "Coordinates                              0\n",
            "Coordinate accuracy                      1\n",
            "GEM wiki page                            0\n",
            "Plant age (years)                       67\n",
            "Announced date                           0\n",
            "Construction date                        0\n",
            "Start date                               0\n",
            "Pre-retirement announcement date         0\n",
            "Idled date                               0\n",
            "Retired date                             0\n",
            "Ferronickel capacity (ttpa)            625\n",
            "Sinter plant capacity (ttpa)           484\n",
            "Coking plant capacity (ttpa)           615\n",
            "Pelletizing plant capacity (ttpa)      491\n",
            "Category steel product                   0\n",
            "Steel products                           0\n",
            "Steel sector end users                   0\n",
            "Workforce size                           0\n",
            "ISO 14001                                0\n",
            "ISO 50001                                0\n",
            "ResponsibleSteel Certification           0\n",
            "Main production equipment                0\n",
            "Power source                             0\n",
            "Iron ore source                          1\n",
            "Met coal source                          0\n",
            "dtype: int64\n"
          ]
        }
      ],
      "source": [
        "print(\"\\nMissing Values:\\n\", df.isnull().sum())"
      ]
    },
    {
      "cell_type": "code",
      "execution_count": 7,
      "id": "0VoXE_9dG71D",
      "metadata": {
        "colab": {
          "base_uri": "https://localhost:8080/"
        },
        "id": "0VoXE_9dG71D",
        "outputId": "5b1d18af-5b23-4f9c-8e01-bb13944ff7c9"
      },
      "outputs": [
        {
          "name": "stdout",
          "output_type": "stream",
          "text": [
            "\n",
            "Data Types:\n",
            " Plant ID                              object\n",
            "Plant name (English)                  object\n",
            "Plant name (other language)           object\n",
            "Other plant names (English)           object\n",
            "Other plant names (other language)    object\n",
            "Owner                                 object\n",
            "Owner (other language)                object\n",
            "Owner GEM ID                          object\n",
            "Owner PermID                          object\n",
            "SOE Status                            object\n",
            "Parent                                object\n",
            "Parent GEM ID                         object\n",
            "Parent PermID                         object\n",
            "Location address                      object\n",
            "Municipality                          object\n",
            "Subnational unit (province/state)     object\n",
            "Country/Area                          object\n",
            "Region                                object\n",
            "Other language location address       object\n",
            "Coordinates                           object\n",
            "Coordinate accuracy                   object\n",
            "GEM wiki page                         object\n",
            "Plant age (years)                     object\n",
            "Announced date                        object\n",
            "Construction date                     object\n",
            "Start date                            object\n",
            "Pre-retirement announcement date      object\n",
            "Idled date                            object\n",
            "Retired date                          object\n",
            "Ferronickel capacity (ttpa)           object\n",
            "Sinter plant capacity (ttpa)          object\n",
            "Coking plant capacity (ttpa)          object\n",
            "Pelletizing plant capacity (ttpa)     object\n",
            "Category steel product                object\n",
            "Steel products                        object\n",
            "Steel sector end users                object\n",
            "Workforce size                        object\n",
            "ISO 14001                             object\n",
            "ISO 50001                             object\n",
            "ResponsibleSteel Certification        object\n",
            "Main production equipment             object\n",
            "Power source                          object\n",
            "Iron ore source                       object\n",
            "Met coal source                       object\n",
            "dtype: object\n"
          ]
        }
      ],
      "source": [
        "print(\"\\nData Types:\\n\", df.dtypes)"
      ]
    },
    {
      "cell_type": "code",
      "execution_count": 10,
      "id": "Z1EGZHKSKUvA",
      "metadata": {
        "colab": {
          "base_uri": "https://localhost:8080/"
        },
        "id": "Z1EGZHKSKUvA",
        "outputId": "e0bb082d-2f78-4dc3-a7a9-7357aca2ae72"
      },
      "outputs": [
        {
          "name": "stdout",
          "output_type": "stream",
          "text": [
            "\n",
            "Target variable: Plant-level production\n",
            "Key features: ['Workforce size', 'ISO 14001', 'ISO 50001', 'ResponsibleSteel Certification']\n"
          ]
        }
      ],
      "source": [
        "target = 'Plant-level production'\n",
        "key_features = ['Workforce size', 'ISO 14001', 'ISO 50001', 'ResponsibleSteel Certification']  # example numeric/operational features\n",
        "print(f\"\\nTarget variable: {target}\")\n",
        "print(f\"Key features: {key_features}\")"
      ]
    },
    {
      "cell_type": "markdown",
      "id": "cGTESY-jIvWg",
      "metadata": {
        "id": "cGTESY-jIvWg"
      },
      "source": [
        "Markdown Prompt:\n",
        "\n",
        "The dataset contains information about steel plants worldwide, including ownership, production capacity, workforce size, certifications, and raw material sources.\n",
        "\n",
        "Target variable: `Plant-level production` (if available in the dataset, otherwise use relevant capacity columns).\n",
        "\n",
        "Observations:\n",
        "\n",
        "*   Several columns have missing values (e.g., ISO certifications, workforce size).\n",
        "*   Some numeric columns may need type conversion.\n",
        "*   Latitude/Longitude coordinates will be needed for geospatial analysis."
      ]
    },
    {
      "cell_type": "markdown",
      "id": "a86a7f09",
      "metadata": {
        "id": "a86a7f09"
      },
      "source": [
        "\n",
        "> 📝 *Markdown prompt:*  \n",
        "Describe any patterns or potential data quality issues you notice. Which variables might strongly influence production?\n",
        "\n",
        "---\n",
        "\n",
        "### **Task 1.2 – Data Cleaning**\n",
        "- Handle missing values appropriately (e.g., imputation, removal).  \n",
        "- Check for outliers or incorrect entries in numerical columns.  \n",
        "- Apply transformations if needed (e.g., log-transform for skewed distributions).\n",
        "\n",
        "> 📝 *Markdown prompt:*  \n",
        "Explain your cleaning choices. Why did you treat the missing or skewed data in that way?\n",
        "\n",
        "---\n"
      ]
    },
    {
      "cell_type": "code",
      "execution_count": null,
      "id": "dc245a7c",
      "metadata": {
        "colab": {
          "base_uri": "https://localhost:8080/",
          "height": 332
        },
        "id": "dc245a7c",
        "outputId": "a706da29-73c7-4711-9b40-cd0f11b59d99"
      },
      "outputs": [
        {
          "ename": "KeyError",
          "evalue": "['Plant-level production']",
          "output_type": "error",
          "traceback": [
            "\u001b[0;31m---------------------------------------------------------------------------\u001b[0m",
            "\u001b[0;31mKeyError\u001b[0m                                  Traceback (most recent call last)",
            "\u001b[0;32m/tmp/ipython-input-279206648.py\u001b[0m in \u001b[0;36m<cell line: 0>\u001b[0;34m()\u001b[0m\n\u001b[1;32m      1\u001b[0m \u001b[0;31m# 1️⃣ Handle missing values\u001b[0m\u001b[0;34m\u001b[0m\u001b[0;34m\u001b[0m\u001b[0m\n\u001b[1;32m      2\u001b[0m \u001b[0;31m# Drop rows where target is missing\u001b[0m\u001b[0;34m\u001b[0m\u001b[0;34m\u001b[0m\u001b[0m\n\u001b[0;32m----> 3\u001b[0;31m \u001b[0mdf_clean\u001b[0m \u001b[0;34m=\u001b[0m \u001b[0mdf\u001b[0m\u001b[0;34m.\u001b[0m\u001b[0mdropna\u001b[0m\u001b[0;34m(\u001b[0m\u001b[0msubset\u001b[0m\u001b[0;34m=\u001b[0m\u001b[0;34m[\u001b[0m\u001b[0mtarget\u001b[0m\u001b[0;34m]\u001b[0m\u001b[0;34m)\u001b[0m\u001b[0;34m\u001b[0m\u001b[0;34m\u001b[0m\u001b[0m\n\u001b[0m\u001b[1;32m      4\u001b[0m \u001b[0;34m\u001b[0m\u001b[0m\n\u001b[1;32m      5\u001b[0m \u001b[0;31m# Impute missing numeric features with median\u001b[0m\u001b[0;34m\u001b[0m\u001b[0;34m\u001b[0m\u001b[0m\n",
            "\u001b[0;32m/usr/local/lib/python3.12/dist-packages/pandas/core/frame.py\u001b[0m in \u001b[0;36mdropna\u001b[0;34m(self, axis, how, thresh, subset, inplace, ignore_index)\u001b[0m\n\u001b[1;32m   6668\u001b[0m             \u001b[0mcheck\u001b[0m \u001b[0;34m=\u001b[0m \u001b[0mindices\u001b[0m \u001b[0;34m==\u001b[0m \u001b[0;34m-\u001b[0m\u001b[0;36m1\u001b[0m\u001b[0;34m\u001b[0m\u001b[0;34m\u001b[0m\u001b[0m\n\u001b[1;32m   6669\u001b[0m             \u001b[0;32mif\u001b[0m \u001b[0mcheck\u001b[0m\u001b[0;34m.\u001b[0m\u001b[0many\u001b[0m\u001b[0;34m(\u001b[0m\u001b[0;34m)\u001b[0m\u001b[0;34m:\u001b[0m\u001b[0;34m\u001b[0m\u001b[0;34m\u001b[0m\u001b[0m\n\u001b[0;32m-> 6670\u001b[0;31m                 \u001b[0;32mraise\u001b[0m \u001b[0mKeyError\u001b[0m\u001b[0;34m(\u001b[0m\u001b[0mnp\u001b[0m\u001b[0;34m.\u001b[0m\u001b[0marray\u001b[0m\u001b[0;34m(\u001b[0m\u001b[0msubset\u001b[0m\u001b[0;34m)\u001b[0m\u001b[0;34m[\u001b[0m\u001b[0mcheck\u001b[0m\u001b[0;34m]\u001b[0m\u001b[0;34m.\u001b[0m\u001b[0mtolist\u001b[0m\u001b[0;34m(\u001b[0m\u001b[0;34m)\u001b[0m\u001b[0;34m)\u001b[0m\u001b[0;34m\u001b[0m\u001b[0;34m\u001b[0m\u001b[0m\n\u001b[0m\u001b[1;32m   6671\u001b[0m             \u001b[0magg_obj\u001b[0m \u001b[0;34m=\u001b[0m \u001b[0mself\u001b[0m\u001b[0;34m.\u001b[0m\u001b[0mtake\u001b[0m\u001b[0;34m(\u001b[0m\u001b[0mindices\u001b[0m\u001b[0;34m,\u001b[0m \u001b[0maxis\u001b[0m\u001b[0;34m=\u001b[0m\u001b[0magg_axis\u001b[0m\u001b[0;34m)\u001b[0m\u001b[0;34m\u001b[0m\u001b[0;34m\u001b[0m\u001b[0m\n\u001b[1;32m   6672\u001b[0m \u001b[0;34m\u001b[0m\u001b[0m\n",
            "\u001b[0;31mKeyError\u001b[0m: ['Plant-level production']"
          ]
        }
      ],
      "source": [
        "# 1️⃣ Handle missing values\n",
        "# Drop rows where target is missing\n",
        "df_clean = df.dropna(subset=[target])\n",
        "\n",
        "# Impute missing numeric features with median\n",
        "numeric_cols = df_clean.select_dtypes(include=[np.number]).columns.tolist()\n",
        "numeric_cols.remove(target)  # exclude target\n",
        "for col in numeric_cols:\n",
        "    df_clean[col].fillna(df_clean[col].median(), inplace=True)\n"
      ]
    },
    {
      "cell_type": "markdown",
      "id": "6767c339",
      "metadata": {
        "id": "6767c339"
      },
      "source": [
        "\n",
        "\n",
        "### **Task 1.3 – Feature Engineering**\n",
        "- Create at least two new variables that might improve model performance (e.g., “capacity per worker”, “energy efficiency”).  \n",
        "- Encode categorical variables and standardize numeric ones.\n",
        "- Bonus: you are free to use external socioeconomic or environmental data sources to enhance your feature set.\n",
        "\n",
        "> 📝 *Markdown prompt:*  \n",
        "Document your new feature(s). What business or operational insight do they represent?\n",
        "\n",
        "---\n"
      ]
    },
    {
      "cell_type": "code",
      "execution_count": null,
      "id": "d776f1c6",
      "metadata": {
        "id": "d776f1c6"
      },
      "outputs": [],
      "source": []
    },
    {
      "cell_type": "markdown",
      "id": "9c51ad22",
      "metadata": {
        "id": "9c51ad22"
      },
      "source": [
        "\n",
        "## 🔍 1.4 Feature Relationships and Correlations\n",
        "⏱ *Estimated time: 20–25 min*\n",
        "\n",
        "### 🧭 Objective  \n",
        "Before training models, it’s essential to understand how features relate to each other and to the target variable — both linearly and nonlinearly. This helps identify redundant or uninformative predictors and guides model choice.\n",
        "\n",
        "---\n",
        "\n",
        "### **Task 1.4.1 – Correlation Matrix (Linear Relationships)**\n",
        "- Compute a **correlation matrix** (e.g., using `df.corr()`, `seaborn.heatmap`, `skrub`) to examine pairwise linear relationships among numerical features.  \n",
        "- Focus on correlations between each feature and the target (`production`), as well as between features themselves.\n",
        "\n",
        "> 📝 *Markdown prompt:*  \n",
        "Which variables show the strongest correlation with production?  \n",
        "Do any features appear redundant or highly correlated with each other?\n",
        "\n",
        "---\n"
      ]
    },
    {
      "cell_type": "code",
      "execution_count": null,
      "id": "d922d89e",
      "metadata": {
        "id": "d922d89e"
      },
      "outputs": [],
      "source": []
    },
    {
      "cell_type": "markdown",
      "id": "9f5d9204",
      "metadata": {
        "id": "9f5d9204"
      },
      "source": [
        "## 🧮 2. Building Baseline & Linear Models\n",
        "⏱ *Estimated time: 25–30 min*\n",
        "\n",
        "### 🧭 Objective  \n",
        "Establish a simple baseline, then train and interpret a linear model.\n",
        "\n",
        "---\n",
        "\n",
        "### **Task 2.1 – Baseline**\n",
        "- Compute a simple baseline predictor (e.g., mean or median production).  \n",
        "- Measure RMSE or MAE compared to actual values.\n",
        "\n",
        "> 📝 *Markdown prompt:*  \n",
        "Why is it useful to have a baseline model before trying more complex ones?\n",
        "\n",
        "---\n"
      ]
    },
    {
      "cell_type": "code",
      "execution_count": null,
      "id": "04b0f437",
      "metadata": {
        "id": "04b0f437"
      },
      "outputs": [],
      "source": []
    },
    {
      "cell_type": "markdown",
      "id": "5b7fb4c1",
      "metadata": {
        "id": "5b7fb4c1"
      },
      "source": [
        "\n",
        "### **Task 2.2 – Linear Regression**\n",
        "- Train a multiple linear regression model using the key plant variables.  \n",
        "- Display coefficients and interpret their meaning.  \n",
        "- Evaluate the model on training and test data.\n",
        "\n",
        "> 📝 *Markdown prompt:*  \n",
        "Interpret one positive and one negative coefficient. What do they tell you about plant performance drivers?\n",
        "\n",
        "---\n"
      ]
    },
    {
      "cell_type": "code",
      "execution_count": null,
      "id": "0a7331b6",
      "metadata": {
        "id": "0a7331b6"
      },
      "outputs": [],
      "source": []
    },
    {
      "cell_type": "markdown",
      "id": "150f8442",
      "metadata": {
        "id": "150f8442"
      },
      "source": [
        "## 🔁 3. Model Evaluation and Selection\n",
        "⏱ *Estimated time: 45–60 min*\n",
        "\n",
        "### 🧭 Objective  \n",
        "Use cross-validation to estimate generalization performance and compare multiple model types.\n",
        "\n",
        "---\n",
        "\n",
        "### **Task 3.1 – Cross-Validation**\n",
        "- Apply **K-Fold cross-validation** (e.g., K=5).  \n",
        "- Record the average RMSE, MAE, and R² across folds.\n",
        "\n",
        "> 📝 *Markdown prompt:*  \n",
        "Summarize your results. How stable is performance across folds? What might this indicate about model variance?\n",
        "\n",
        "---\n"
      ]
    },
    {
      "cell_type": "code",
      "execution_count": null,
      "id": "10a1aa40",
      "metadata": {
        "id": "10a1aa40"
      },
      "outputs": [],
      "source": []
    },
    {
      "cell_type": "markdown",
      "id": "890e114a",
      "metadata": {
        "id": "890e114a"
      },
      "source": [
        "### **Task 3.2 – Model Comparison**\n",
        "Train and compare at least **three models**:\n",
        "- Linear Regression  \n",
        "- Ridge Regression (regularized linear)  \n",
        "- Random Forest Regressor  \n",
        "\n",
        "Record cross-validation performance for each model.\n",
        "\n",
        "> 📝 *Markdown prompt:*  \n",
        "Create a small results table. Which model performs best? Why might that be the case given the dataset’s characteristics?\n",
        "\n",
        "---"
      ]
    },
    {
      "cell_type": "code",
      "execution_count": null,
      "id": "26e62d50",
      "metadata": {
        "id": "26e62d50"
      },
      "outputs": [],
      "source": []
    },
    {
      "cell_type": "markdown",
      "id": "36c3f11c",
      "metadata": {
        "id": "36c3f11c"
      },
      "source": [
        "### **Task 3.3 – Hyperparameter Optimization**\n",
        "- Use **RandomizedSearchCV** or **GridSearchCV** to tune the top model (e.g., Random Forest).  \n",
        "- Report the best parameters and corresponding validation score.\n",
        "\n",
        "> 📝 *Markdown prompt:*  \n",
        "Discuss the role of hyperparameter tuning. How did tuning change your model’s performance compared to default settings?\n",
        "\n",
        "---\n"
      ]
    },
    {
      "cell_type": "code",
      "execution_count": null,
      "id": "efd59efe",
      "metadata": {
        "id": "efd59efe"
      },
      "outputs": [],
      "source": []
    },
    {
      "cell_type": "markdown",
      "id": "19b44578",
      "metadata": {
        "id": "19b44578"
      },
      "source": [
        "## ⚙️ 4. Model Lifecycle: Tracking, Saving, and Loading\n",
        "⏱ *Estimated time: 30–40 min*\n",
        "\n",
        "### 🧭 Objective  \n",
        "Apply tools that support reproducible ML experiments.\n",
        "\n",
        "---\n",
        "\n",
        "### **Task 4.1 – Experiment Tracking with MLflow**\n",
        "- Use MLflow to log parameters (model type, hyperparameters), metrics (RMSE, R²), and artifacts (plots or model files).  \n",
        "- Run and record at least two model experiments.\n",
        "\n",
        "> 📝 *Markdown prompt:*  \n",
        "Describe how MLflow helps manage your experiments. What advantages does it give compared to manual tracking?\n",
        "\n",
        "---"
      ]
    },
    {
      "cell_type": "code",
      "execution_count": null,
      "id": "ca467cda",
      "metadata": {
        "id": "ca467cda"
      },
      "outputs": [],
      "source": []
    },
    {
      "cell_type": "markdown",
      "id": "5762d18e",
      "metadata": {
        "id": "5762d18e"
      },
      "source": [
        "### **Task 4.2 – Hyperparameter Optimization with Optuna**\n",
        "- Define an Optuna study to optimize one model (e.g., Ridge or Random Forest).  \n",
        "- Record the number of trials and best result.\n",
        "\n",
        "> 📝 *Markdown prompt:*  \n",
        "Explain what Optuna is doing behind the scenes. How is it different from Grid or Random Search?\n",
        "\n",
        "---"
      ]
    },
    {
      "cell_type": "code",
      "execution_count": null,
      "id": "7de5748d",
      "metadata": {
        "id": "7de5748d"
      },
      "outputs": [],
      "source": []
    },
    {
      "cell_type": "markdown",
      "id": "f87598c0",
      "metadata": {
        "id": "f87598c0"
      },
      "source": [
        "### **Task 4.3 – Model Storage**\n",
        "- Save the best performing model to a file (e.g., using joblib or MLflow’s model registry).  \n",
        "- Demonstrate loading the saved model and re-evaluating it on the test set.\n",
        "\n",
        "> 📝 *Markdown prompt:*  \n",
        "Why is it important to store both model parameters and metadata? How would you ensure version control of models in a production setting?\n",
        "\n",
        "---"
      ]
    },
    {
      "cell_type": "code",
      "execution_count": null,
      "id": "0f22f5f8",
      "metadata": {
        "id": "0f22f5f8"
      },
      "outputs": [],
      "source": []
    },
    {
      "cell_type": "markdown",
      "id": "36a082b9",
      "metadata": {
        "id": "36a082b9"
      },
      "source": [
        "\n",
        "## 🚀 5. Deployment & Monitoring (Conceptual)\n",
        "⏱ *Estimated time: 15–20 min*\n",
        "\n",
        "### 🧭 Objective  \n",
        "Reflect on how models transition from training to production and stay reliable over time.\n",
        "\n",
        "---\n",
        "\n",
        "### **Task 5.1 – Deployment Planning**\n",
        "> 📝 *Markdown prompt:*  \n",
        "Describe how you would deploy your model in a business environment (e.g., via REST API, batch pipeline).  \n",
        "Which metrics would you monitor in production?\n",
        "\n",
        "---"
      ]
    },
    {
      "cell_type": "code",
      "execution_count": null,
      "id": "24216507",
      "metadata": {
        "id": "24216507"
      },
      "outputs": [],
      "source": []
    },
    {
      "cell_type": "markdown",
      "id": "e6668353",
      "metadata": {
        "id": "e6668353"
      },
      "source": [
        "### **Task 5.2 – Detecting Model Drift**\n",
        "> 📝 *Markdown prompt:*  \n",
        "What signs might indicate your model needs retraining?  \n",
        "Give one example of **data drift** and one of **concept drift** relevant to steel plant production.\n",
        "\n",
        "---"
      ]
    },
    {
      "cell_type": "code",
      "execution_count": null,
      "id": "14e4ebe6",
      "metadata": {
        "id": "14e4ebe6"
      },
      "outputs": [],
      "source": []
    },
    {
      "cell_type": "markdown",
      "id": "56595305",
      "metadata": {
        "id": "56595305"
      },
      "source": [
        "## 💬 6. Reflection\n",
        "⏱ *Estimated time: 10–15 min*\n",
        "\n",
        "> 📝 *Markdown prompt:*  \n",
        "1. Which step of the modelling lifecycle did you find most challenging and why?  \n",
        "2. What would you do differently if you had access to additional plant-level data?  \n",
        "3. How would you communicate model insights to a business audience?\n",
        "\n",
        "---"
      ]
    },
    {
      "cell_type": "code",
      "execution_count": null,
      "id": "1e4a2d01",
      "metadata": {
        "id": "1e4a2d01"
      },
      "outputs": [],
      "source": []
    },
    {
      "cell_type": "markdown",
      "id": "835c237c",
      "metadata": {
        "id": "835c237c",
        "vscode": {
          "languageId": "plaintext"
        }
      },
      "source": [
        "✅ **End of Lab**\n",
        "\n",
        "Next week: Short quiz on theoretical concepts (distributions, regression, model selection, and experiment tracking).\n",
        "\n"
      ]
    }
  ],
  "metadata": {
    "colab": {
      "provenance": []
    },
    "kernelspec": {
      "display_name": "Python 3",
      "name": "python3"
    },
    "language_info": {
      "codemirror_mode": {
        "name": "ipython",
        "version": 3
      },
      "file_extension": ".py",
      "mimetype": "text/x-python",
      "name": "python",
      "nbconvert_exporter": "python",
      "pygments_lexer": "ipython3",
      "version": "3.11.9"
    }
  },
  "nbformat": 4,
  "nbformat_minor": 5
}
